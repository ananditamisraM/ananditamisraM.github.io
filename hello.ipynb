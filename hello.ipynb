{
  "cells": [
    {
      "cell_type": "raw",
      "metadata": {},
      "source": [
        "---\n",
        "title: \"Data Story Visualizations\"\n",
        "format: html\n",
        "editor: visual\n",
        "---"
      ],
      "id": "0f2db52f"
    },
    {
      "cell_type": "markdown",
      "metadata": {},
      "source": [
        "## \\<Placeholders for data story-Final Title here\\>\n",
        "\n",
        "\\<Description of the topic here\\>\n",
        "\n",
        "###<Visualization No.1>\n",
        "####<Brief significance of the visualization>\n",
        "\n",
        "\n",
        "```{block}\n",
        "<iframe height=\"400\" width=\"100%\" frameborder=\"no\" src=\"https://ananditamisram.shinyapps.io/ShinyApp/\"> </iframe>\n",
        "```"
      ],
      "id": "5e0fa1b0"
    }
  ],
  "metadata": {
    "kernelspec": {
      "display_name": "Python 3",
      "language": "python",
      "name": "python3"
    }
  },
  "nbformat": 4,
  "nbformat_minor": 5
}